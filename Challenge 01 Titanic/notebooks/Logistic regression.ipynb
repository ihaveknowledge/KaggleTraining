{
 "cells": [
  {
   "cell_type": "code",
   "execution_count": 11,
   "id": "bb8a43b3-6d4f-4799-be71-8afbc5825e16",
   "metadata": {},
   "outputs": [],
   "source": [
    "from sklearn.linear_model import LogisticRegression\n",
    "from sklearn.metrics import classification_report, confusion_matrix\n",
    "import pandas as pd\n",
    "from sklearn.model_selection import train_test_split"
   ]
  },
  {
   "cell_type": "code",
   "execution_count": 50,
   "id": "5cdd2368-933f-4af8-b743-8ed06658f37a",
   "metadata": {},
   "outputs": [],
   "source": [
    "import numpy as np"
   ]
  },
  {
   "cell_type": "code",
   "execution_count": 44,
   "id": "26ce0156-1539-4365-8150-264fcd84c259",
   "metadata": {},
   "outputs": [],
   "source": [
    "# preprocessing / pipeline\n",
    "from sklearn import preprocessing\n"
   ]
  },
  {
   "cell_type": "code",
   "execution_count": 12,
   "id": "9eea6fff-0925-42a7-9a27-ee4997b6f43f",
   "metadata": {},
   "outputs": [],
   "source": [
    "from sklearn.model_selection import GridSearchCV\n",
    "from sklearn.model_selection import RepeatedStratifiedKFold"
   ]
  },
  {
   "cell_type": "code",
   "execution_count": 31,
   "id": "832cb64f-622e-4d66-acad-1a3e324dd293",
   "metadata": {},
   "outputs": [],
   "source": [
    "final_test = pd.read_csv(\"../data/processed/final_test.csv\")\n",
    "final_train = pd.read_csv(\"../data/processed/final_train.csv\")"
   ]
  },
  {
   "cell_type": "code",
   "execution_count": 55,
   "id": "3b5d1f5f-64ae-484b-8492-5e917a65af1b",
   "metadata": {},
   "outputs": [],
   "source": [
    "x_array = np.array(final_test['Age'])\n",
    "y_array = np.array(final_train['Age'])"
   ]
  },
  {
   "cell_type": "code",
   "execution_count": 75,
   "id": "36129406-2d51-4a67-8c0f-453b88ad437b",
   "metadata": {},
   "outputs": [],
   "source": [
    "normalizer = preprocessing.Normalizer()"
   ]
  },
  {
   "cell_type": "code",
   "execution_count": 87,
   "id": "7b6887c7-04e6-4403-b243-a6e2afc4ab34",
   "metadata": {},
   "outputs": [],
   "source": [
    "final_test['Age'] = normalizer.fit_transform([x_array])[0]\n",
    "final_train['Age'] = normalizer.fit_transform([y_array])[0]"
   ]
  },
  {
   "cell_type": "code",
   "execution_count": 89,
   "id": "55bd63e7-1ce3-47a0-b03a-5ad34318f614",
   "metadata": {},
   "outputs": [],
   "source": [
    "x_array = np.array(final_test['Fare'])\n",
    "y_array = np.array(final_train['Fare'])\n",
    "final_test['Fare'] = normalizer.fit_transform([x_array])[0]\n",
    "final_train['Fare'] = normalizer.fit_transform([y_array])[0]"
   ]
  },
  {
   "cell_type": "code",
   "execution_count": 90,
   "id": "ae59459c-7521-47b4-b936-a1d08e7c07bd",
   "metadata": {},
   "outputs": [
    {
     "data": {
      "text/html": [
       "<div>\n",
       "<style scoped>\n",
       "    .dataframe tbody tr th:only-of-type {\n",
       "        vertical-align: middle;\n",
       "    }\n",
       "\n",
       "    .dataframe tbody tr th {\n",
       "        vertical-align: top;\n",
       "    }\n",
       "\n",
       "    .dataframe thead th {\n",
       "        text-align: right;\n",
       "    }\n",
       "</style>\n",
       "<table border=\"1\" class=\"dataframe\">\n",
       "  <thead>\n",
       "    <tr style=\"text-align: right;\">\n",
       "      <th></th>\n",
       "      <th>PassengerId</th>\n",
       "      <th>Age</th>\n",
       "      <th>Fare</th>\n",
       "      <th>TravelAlone</th>\n",
       "      <th>Pclass_1</th>\n",
       "      <th>Pclass_2</th>\n",
       "      <th>Pclass_3</th>\n",
       "      <th>Embarked_C</th>\n",
       "      <th>Embarked_Q</th>\n",
       "      <th>Embarked_S</th>\n",
       "      <th>Sex_male</th>\n",
       "      <th>IsMinor</th>\n",
       "    </tr>\n",
       "  </thead>\n",
       "  <tbody>\n",
       "    <tr>\n",
       "      <th>0</th>\n",
       "      <td>892</td>\n",
       "      <td>0.052115</td>\n",
       "      <td>0.005788</td>\n",
       "      <td>1</td>\n",
       "      <td>0</td>\n",
       "      <td>0</td>\n",
       "      <td>1</td>\n",
       "      <td>0</td>\n",
       "      <td>1</td>\n",
       "      <td>0</td>\n",
       "      <td>1</td>\n",
       "      <td>0</td>\n",
       "    </tr>\n",
       "    <tr>\n",
       "      <th>1</th>\n",
       "      <td>893</td>\n",
       "      <td>0.070997</td>\n",
       "      <td>0.005175</td>\n",
       "      <td>0</td>\n",
       "      <td>0</td>\n",
       "      <td>0</td>\n",
       "      <td>1</td>\n",
       "      <td>0</td>\n",
       "      <td>0</td>\n",
       "      <td>1</td>\n",
       "      <td>0</td>\n",
       "      <td>0</td>\n",
       "    </tr>\n",
       "    <tr>\n",
       "      <th>2</th>\n",
       "      <td>894</td>\n",
       "      <td>0.093655</td>\n",
       "      <td>0.007162</td>\n",
       "      <td>1</td>\n",
       "      <td>0</td>\n",
       "      <td>1</td>\n",
       "      <td>0</td>\n",
       "      <td>0</td>\n",
       "      <td>1</td>\n",
       "      <td>0</td>\n",
       "      <td>1</td>\n",
       "      <td>0</td>\n",
       "    </tr>\n",
       "    <tr>\n",
       "      <th>3</th>\n",
       "      <td>895</td>\n",
       "      <td>0.040785</td>\n",
       "      <td>0.006404</td>\n",
       "      <td>1</td>\n",
       "      <td>0</td>\n",
       "      <td>0</td>\n",
       "      <td>1</td>\n",
       "      <td>0</td>\n",
       "      <td>0</td>\n",
       "      <td>1</td>\n",
       "      <td>1</td>\n",
       "      <td>0</td>\n",
       "    </tr>\n",
       "    <tr>\n",
       "      <th>4</th>\n",
       "      <td>896</td>\n",
       "      <td>0.033233</td>\n",
       "      <td>0.009084</td>\n",
       "      <td>0</td>\n",
       "      <td>0</td>\n",
       "      <td>0</td>\n",
       "      <td>1</td>\n",
       "      <td>0</td>\n",
       "      <td>0</td>\n",
       "      <td>1</td>\n",
       "      <td>0</td>\n",
       "      <td>0</td>\n",
       "    </tr>\n",
       "  </tbody>\n",
       "</table>\n",
       "</div>"
      ],
      "text/plain": [
       "   PassengerId       Age      Fare  TravelAlone  Pclass_1  Pclass_2  Pclass_3  \\\n",
       "0          892  0.052115  0.005788            1         0         0         1   \n",
       "1          893  0.070997  0.005175            0         0         0         1   \n",
       "2          894  0.093655  0.007162            1         0         1         0   \n",
       "3          895  0.040785  0.006404            1         0         0         1   \n",
       "4          896  0.033233  0.009084            0         0         0         1   \n",
       "\n",
       "   Embarked_C  Embarked_Q  Embarked_S  Sex_male  IsMinor  \n",
       "0           0           1           0         1        0  \n",
       "1           0           0           1         0        0  \n",
       "2           0           1           0         1        0  \n",
       "3           0           0           1         1        0  \n",
       "4           0           0           1         0        0  "
      ]
     },
     "execution_count": 90,
     "metadata": {},
     "output_type": "execute_result"
    }
   ],
   "source": [
    "final_test.head()"
   ]
  },
  {
   "cell_type": "code",
   "execution_count": 91,
   "id": "ea515ee2-895d-4b63-a426-c98556d34778",
   "metadata": {},
   "outputs": [],
   "source": [
    "feature_columns_to_use = ['Age','TravelAlone','Pclass_1','Pclass_2', 'Fare','Sex_male', 'IsMinor', 'Embarked_C', 'Embarked_S']"
   ]
  },
  {
   "cell_type": "code",
   "execution_count": 92,
   "id": "93517881-1d24-4068-b111-b951d775600e",
   "metadata": {},
   "outputs": [],
   "source": [
    "# Prepare the inputs for the model\n",
    "y = final_train['Survived']\n",
    "X = final_train.loc[:, feature_columns_to_use]\n",
    "\n",
    "train_X, test_X, train_y, test_y = train_test_split(X, y, random_state=104, \n",
    "                                                           test_size=0.25, \n",
    "                                                           shuffle=True)\n"
   ]
  },
  {
   "cell_type": "code",
   "execution_count": 96,
   "id": "f5084f56-b0c6-40f8-9a56-5bb0854dc329",
   "metadata": {},
   "outputs": [],
   "source": [
    "# define model\n",
    "model = LogisticRegression()"
   ]
  },
  {
   "cell_type": "code",
   "execution_count": 107,
   "id": "e242ecd3-29be-4a2a-b477-d0b88bdeb548",
   "metadata": {},
   "outputs": [],
   "source": [
    "# define search space\n",
    "space = dict()\n",
    "#solver{‘lbfgs’, ‘liblinear’, ‘newton-cg’, ‘newton-cholesky’, ‘sag’, ‘saga’}, default=’lbfgs’\n",
    "space['solver'] = ['newton-cg', 'sag']\n",
    "#penalty{‘l1’, ‘l2’, ‘elasticnet’, None}, default=’l2’\n",
    "space['penalty'] = ['l2']\n"
   ]
  },
  {
   "cell_type": "code",
   "execution_count": 108,
   "id": "1f0b8b7e-d951-4a10-8f3d-ad3e5e5525a0",
   "metadata": {},
   "outputs": [],
   "source": [
    "# define search\n",
    "search = GridSearchCV(model, space)"
   ]
  },
  {
   "cell_type": "code",
   "execution_count": 109,
   "id": "3aa8bc43-48cc-4f53-b8e0-df8c433ec1be",
   "metadata": {},
   "outputs": [
    {
     "name": "stdout",
     "output_type": "stream",
     "text": [
      "Best Score: 0.7778042809616471\n",
      "Best Hyperparameters: {'penalty': 'l2', 'solver': 'newton-cg'}\n"
     ]
    }
   ],
   "source": [
    "# execute search\n",
    "result = search.fit(X, y)\n",
    "# summarize result\n",
    "print('Best Score: %s' % result.best_score_)\n",
    "print('Best Hyperparameters: %s' % result.best_params_)"
   ]
  },
  {
   "cell_type": "code",
   "execution_count": 110,
   "id": "937aefdf-f01b-4cf4-8563-fd910ee119d8",
   "metadata": {},
   "outputs": [],
   "source": [
    "model = LogisticRegression(solver='newton-cg', penalty = 'l2', random_state=4).fit(train_X, train_y)"
   ]
  },
  {
   "cell_type": "code",
   "execution_count": 111,
   "id": "525d9377-a01d-4deb-88d4-01a8502446f0",
   "metadata": {},
   "outputs": [
    {
     "data": {
      "text/plain": [
       "array([[113,  32],\n",
       "       [ 23,  55]], dtype=int64)"
      ]
     },
     "execution_count": 111,
     "metadata": {},
     "output_type": "execute_result"
    }
   ],
   "source": [
    "confusion_matrix(test_y, model.predict(test_X))"
   ]
  },
  {
   "cell_type": "code",
   "execution_count": 112,
   "id": "d8f030a9-30eb-4e1c-bac5-dbe44fd902a6",
   "metadata": {},
   "outputs": [],
   "source": [
    "final_X = final_test.loc[:, feature_columns_to_use]"
   ]
  },
  {
   "cell_type": "code",
   "execution_count": 113,
   "id": "22f550e0-470e-45d8-9e4a-aada871fe3ab",
   "metadata": {},
   "outputs": [],
   "source": [
    "predictions = model.predict(final_X)"
   ]
  },
  {
   "cell_type": "code",
   "execution_count": 114,
   "id": "1377578f-ce67-4ee8-8510-91ff91322d33",
   "metadata": {},
   "outputs": [],
   "source": [
    "# Kaggle needs the submission to have a certain format;\n",
    "# see https://www.kaggle.com/c/titanic-gettingStarted/download/gendermodel.csv\n",
    "# for an example of what it's supposed to look like.\n",
    "submission = pd.DataFrame({ 'PassengerId': final_test['PassengerId'],\n",
    "                            'Survived': predictions })\n",
    "submission.to_csv(\"../data/processed/submission.csv\", index=False)"
   ]
  },
  {
   "cell_type": "code",
   "execution_count": 115,
   "id": "2ceb8426-f9bb-4c61-9eac-d1133c7a1296",
   "metadata": {},
   "outputs": [],
   "source": [
    "import kaggle"
   ]
  },
  {
   "cell_type": "code",
   "execution_count": 116,
   "id": "e576b7c4-dbef-4ba1-90bc-b2cf2c8c04a6",
   "metadata": {},
   "outputs": [
    {
     "name": "stdout",
     "output_type": "stream",
     "text": [
      "Successfully submitted to Titanic - Machine Learning from Disaster"
     ]
    },
    {
     "name": "stderr",
     "output_type": "stream",
     "text": [
      "\n",
      "  0%|          | 0.00/3.18k [00:00<?, ?B/s]\n",
      "100%|##########| 3.18k/3.18k [00:00<00:00, 29.8kB/s]\n",
      "100%|##########| 3.18k/3.18k [00:01<00:00, 1.67kB/s]\n"
     ]
    },
    {
     "name": "stdout",
     "output_type": "stream",
     "text": [
      "\n"
     ]
    }
   ],
   "source": [
    "! kaggle competitions submit -c titanic -f ../data/processed/submission.csv -m \"Logistic regression with normalisation applied\""
   ]
  }
 ],
 "metadata": {
  "kernelspec": {
   "display_name": "Python 3 (ipykernel)",
   "language": "python",
   "name": "python3"
  },
  "language_info": {
   "codemirror_mode": {
    "name": "ipython",
    "version": 3
   },
   "file_extension": ".py",
   "mimetype": "text/x-python",
   "name": "python",
   "nbconvert_exporter": "python",
   "pygments_lexer": "ipython3",
   "version": "3.9.1"
  }
 },
 "nbformat": 4,
 "nbformat_minor": 5
}
