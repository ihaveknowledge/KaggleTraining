{
 "cells": [
  {
   "cell_type": "code",
   "execution_count": 11,
   "id": "bb8a43b3-6d4f-4799-be71-8afbc5825e16",
   "metadata": {},
   "outputs": [],
   "source": [
    "from sklearn.linear_model import LogisticRegression\n",
    "from sklearn.metrics import classification_report, confusion_matrix\n",
    "import pandas as pd\n",
    "from sklearn.model_selection import train_test_split"
   ]
  },
  {
   "cell_type": "code",
   "execution_count": 22,
   "id": "26ce0156-1539-4365-8150-264fcd84c259",
   "metadata": {},
   "outputs": [],
   "source": [
    "from scipy.stats import zscore"
   ]
  },
  {
   "cell_type": "code",
   "execution_count": 12,
   "id": "9eea6fff-0925-42a7-9a27-ee4997b6f43f",
   "metadata": {},
   "outputs": [],
   "source": [
    "from sklearn.model_selection import GridSearchCV\n",
    "from sklearn.model_selection import RepeatedStratifiedKFold"
   ]
  },
  {
   "cell_type": "code",
   "execution_count": 13,
   "id": "832cb64f-622e-4d66-acad-1a3e324dd293",
   "metadata": {},
   "outputs": [],
   "source": [
    "final_test = pd.read_csv(\"../data/processed/final_test.csv\")\n",
    "final_train = pd.read_csv(\"../data/processed/final_train.csv\")"
   ]
  },
  {
   "cell_type": "code",
   "execution_count": 26,
   "id": "4c8063cb-2775-40d8-9ff0-04ecd5064111",
   "metadata": {},
   "outputs": [
    {
     "data": {
      "text/plain": [
       "array([ 0.37106201,  1.35898508,  2.54449275, -0.22169183, -0.61686105,\n",
       "       -1.24913181,  0.01540971, -0.30072567, -0.93299643, -0.6958949 ,\n",
       "       -0.14265798,  1.27995123, -0.53782721,  2.6235266 ,  1.35898508,\n",
       "       -0.45879336,  0.41057893, -0.6958949 , -0.22169183,  1.20091738,\n",
       "        1.99125584, -1.64430104, -0.14265798, -0.6958949 ,  1.43801892,\n",
       "        1.59608661, -0.61686105, -0.57734413,  0.884782  , -0.14265798,\n",
       "        1.59608661, -0.45879336,  0.25251124, -0.14265798,  0.01540971,\n",
       "       -0.89347951, -0.14265798, -0.6958949 , -0.37975952, -0.14265798,\n",
       "        0.72671431, -0.14265798,  0.884782  ,  0.01540971,  1.20091738,\n",
       "       -0.37975952,  1.20091738, -0.14265798,  2.38642506,  0.48961278,\n",
       "       -0.45879336, -0.22169183, -0.77492874, -0.14265798, -0.14265798,\n",
       "       -1.56526719,  0.41057893, -0.37975952, -0.14265798,  0.48961278,\n",
       "       -1.01203028,  0.1734774 , -0.93299643, -0.61686105, -1.32816566,\n",
       "       -0.14265798, -0.93299643,  1.35898508,  0.09444355,  2.38642506,\n",
       "       -0.45879336, -0.6958949 , -0.06362414, -0.10314106,  0.41057893,\n",
       "        0.21299432, -0.14265798,  1.99125584,  0.01540971, -0.45879336,\n",
       "       -1.88140257,  2.93966198,  1.51705277, -0.14265798, -0.14265798,\n",
       "       -0.14265798, -0.22169183, -0.93299643, -0.14265798, -2.19753795,\n",
       "       -0.61686105, -0.14265798, -0.22169183, -0.14265798, -0.37975952,\n",
       "       -0.37975952,  3.65096658, -0.06362414, -0.77492874,  0.25251124,\n",
       "        1.04284969, -0.22169183, -0.14265798, -0.30072567, -1.09106412,\n",
       "       -0.14265798, -0.6958949 , -0.14265798, -0.14265798, -0.89347951,\n",
       "        0.884782  , -0.14265798,  0.48961278, -0.89347951,  2.6235266 ,\n",
       "       -0.93299643, -0.14265798, -2.2765718 ,  0.48961278, -0.06362414,\n",
       "       -1.4071995 , -0.14265798,  0.41057893, -0.14265798, -0.14265798,\n",
       "       -1.01203028, -0.61686105, -0.14265798,  0.96381585, -0.45879336,\n",
       "        0.1734774 ,  1.83318815, -0.14265798, -0.14265798,  1.04284969,\n",
       "       -0.45879336, -0.26120875, -0.30072567, -0.53782721,  0.80574816,\n",
       "       -1.56526719,  0.25251124,  2.46545891, -0.14265798,  0.96381585,\n",
       "        0.09444355, -0.14265798, -0.61686105, -0.14265798,  0.01540971,\n",
       "       -0.53782721, -0.14265798,  2.42594198,  0.48961278, -1.32816566,\n",
       "       -0.45879336, -0.06362414, -0.53782721,  0.96381585, -0.30072567,\n",
       "       -0.14265798, -1.80236873, -0.30072567, -0.14265798,  0.884782  ,\n",
       "       -0.30072567,  1.43801892, -0.93299643, -0.14265798, -0.61686105,\n",
       "       -0.14265798, -0.22169183, -0.53782721, -0.14265798,  0.80574816,\n",
       "       -1.17009797, -0.77492874,  1.91222199,  0.48961278,  2.70256044,\n",
       "        0.01540971,  0.56864662, -0.93299643, -0.14265798, -0.22169183,\n",
       "        0.80574816, -0.6958949 , -1.01203028, -0.14265798,  0.80574816,\n",
       "        0.33154509, -0.14265798, -1.44671642,  2.46545891, -1.72333488,\n",
       "        0.25251124, -1.88140257, -0.93299643, -0.53782721, -0.14265798,\n",
       "       -0.14265798, -2.32952447,  1.35898508, -1.72333488, -0.37975952,\n",
       "       -0.14265798,  0.41057893, -0.45879336,  0.25251124, -0.37975952,\n",
       "        0.1734774 , -0.14265798, -1.01203028,  2.38642506,  0.64768047,\n",
       "        0.96381585, -0.14265798,  2.14932353,  1.59608661, -0.14265798,\n",
       "        0.01540971, -0.6958949 , -0.61686105, -0.6958949 ,  1.83318815,\n",
       "       -0.14265798, -0.53782721, -0.14265798,  0.84526508,  0.48961278,\n",
       "       -1.24913181, -0.6958949 , -0.6958949 , -0.14265798,  0.72671431,\n",
       "       -0.77492874,  2.70256044, -0.77492874, -0.93299643,  1.43801892,\n",
       "        1.99125584,  1.20091738,  1.20091738, -0.14265798, -0.14265798,\n",
       "        0.884782  , -0.61686105,  0.96381585, -0.06362414, -0.14265798,\n",
       "       -2.28289451, -0.77492874, -0.22169183, -0.45879336,  0.21299432,\n",
       "       -0.14265798, -0.14265798, -0.14265798, -0.85396259, -0.6958949 ,\n",
       "        0.5291297 , -0.6958949 , -0.06362414, -2.2765718 ,  0.01540971,\n",
       "       -0.14265798, -0.14265798, -0.14265798, -0.14265798, -1.01203028,\n",
       "        1.27995123, -0.14265798, -0.30072567, -0.14265798, -0.14265798,\n",
       "       -0.77492874, -0.14265798,  0.80574816,  0.01540971, -0.61686105,\n",
       "       -0.53782721, -2.29633026, -0.14265798, -1.64430104, -2.19753795,\n",
       "        0.48961278, -0.14265798, -0.45879336, -0.14265798, -0.14265798,\n",
       "       -0.14265798,  0.01540971, -0.14265798,  1.83318815,  0.48961278,\n",
       "       -0.30072567, -2.2765718 , -0.14265798,  0.01540971, -0.06362414,\n",
       "        0.1734774 , -0.14265798,  1.04284969, -0.45879336, -0.14265798,\n",
       "        2.70256044,  0.01540971, -2.29000755,  1.99125584,  1.20091738,\n",
       "       -0.93299643, -0.61686105, -0.14265798,  0.56864662,  1.99125584,\n",
       "       -1.01203028,  2.14932353, -0.85396259, -0.22169183, -0.61686105,\n",
       "       -0.30072567, -0.37975952, -0.30072567,  0.25251124,  0.72671431,\n",
       "       -0.53782721, -1.4071995 ,  1.27995123, -0.06362414, -0.6958949 ,\n",
       "        1.43801892,  0.72671431, -0.14265798, -0.85396259, -0.22169183,\n",
       "        0.01540971,  0.1734774 ,  0.72671431, -0.37975952, -0.14265798,\n",
       "       -0.93299643,  0.1734774 , -0.14265798,  2.22835737, -0.14265798,\n",
       "       -1.09106412, -0.30072567,  0.64768047, -0.45879336,  0.09444355,\n",
       "        1.20091738, -0.37975952, -0.93299643,  1.51705277, -2.34216989,\n",
       "        1.59608661,  2.30739122, -0.14265798, -0.14265798,  0.01540971,\n",
       "       -1.20961489, -0.45879336,  0.09444355, -0.22169183, -0.37975952,\n",
       "       -0.14265798, -0.14265798, -0.61686105,  1.20091738, -0.06362414,\n",
       "       -0.6958949 ,  0.09444355,  1.51705277,  1.12188354,  1.91222199,\n",
       "        1.20091738, -0.61686105, -0.6958949 ,  1.99125584, -1.96043642,\n",
       "       -0.14265798, -0.30072567, -0.14265798, -0.85396259, -0.14265798,\n",
       "       -0.45879336, -0.45879336,  2.14932353, -0.6958949 , -1.88140257,\n",
       "       -0.53782721,  1.67512046, -1.32816566,  1.35898508, -0.06362414,\n",
       "       -0.93299643, -0.45879336,  1.43801892, -0.61686105,  0.09444355,\n",
       "        0.01540971,  0.64768047, -0.61686105, -1.01203028,  1.04284969,\n",
       "       -0.77492874, -0.53782721,  1.59608661, -0.14265798, -2.11850411,\n",
       "       -0.14265798,  0.56864662, -0.14265798, -0.14265798,  0.72671431,\n",
       "        0.68719739, -0.14265798, -0.14265798])"
      ]
     },
     "execution_count": 26,
     "metadata": {},
     "output_type": "execute_result"
    }
   ],
   "source": [
    "zscore(final_test['Age'])\n"
   ]
  },
  {
   "cell_type": "code",
   "execution_count": 14,
   "id": "ea515ee2-895d-4b63-a426-c98556d34778",
   "metadata": {},
   "outputs": [],
   "source": [
    "feature_columns_to_use = ['Age','TravelAlone','Pclass_1','Pclass_2', 'Fare','Sex_male', 'IsMinor', 'Embarked_C', 'Embarked_S']"
   ]
  },
  {
   "cell_type": "code",
   "execution_count": 6,
   "id": "93517881-1d24-4068-b111-b951d775600e",
   "metadata": {},
   "outputs": [],
   "source": [
    "# Prepare the inputs for the model\n",
    "y = final_train['Survived']\n",
    "X = final_train.loc[:, feature_columns_to_use]\n",
    "\n",
    "train_X, test_X, train_y, test_y = train_test_split(X, y, random_state=104, \n",
    "                                                           test_size=0.25, \n",
    "                                                           shuffle=True)\n"
   ]
  },
  {
   "cell_type": "code",
   "execution_count": 23,
   "id": "f5084f56-b0c6-40f8-9a56-5bb0854dc329",
   "metadata": {},
   "outputs": [],
   "source": [
    "# define model\n",
    "model = LogisticRegression()"
   ]
  },
  {
   "cell_type": "code",
   "execution_count": 68,
   "id": "e242ecd3-29be-4a2a-b477-d0b88bdeb548",
   "metadata": {},
   "outputs": [],
   "source": [
    "# define search space\n",
    "space = dict()\n",
    "#solver{‘lbfgs’, ‘liblinear’, ‘newton-cg’, ‘newton-cholesky’, ‘sag’, ‘saga’}, default=’lbfgs’\n",
    "space['solver'] = ['newton-cg', 'sag']\n",
    "#penalty{‘l1’, ‘l2’, ‘elasticnet’, None}, default=’l2’\n",
    "#space['penalty'] = ['l1', 'l2', 'elasticnet']\n"
   ]
  },
  {
   "cell_type": "code",
   "execution_count": 69,
   "id": "fd1b5b30-9ecf-4bb3-834d-3c0fdd0ff5e0",
   "metadata": {},
   "outputs": [],
   "source": [
    "# define search\n",
    "search = GridSearchCV(model, space)"
   ]
  },
  {
   "cell_type": "code",
   "execution_count": 70,
   "id": "3aa8bc43-48cc-4f53-b8e0-df8c433ec1be",
   "metadata": {},
   "outputs": [
    {
     "name": "stdout",
     "output_type": "stream",
     "text": [
      "Best Score: 0.7935032326909798\n",
      "Best Hyperparameters: {'solver': 'newton-cg'}\n"
     ]
    },
    {
     "name": "stderr",
     "output_type": "stream",
     "text": [
      "c:\\users\\msinclair\\miniconda3\\lib\\site-packages\\sklearn\\linear_model\\_sag.py:328: ConvergenceWarning: The max_iter was reached which means the coef_ did not converge\n",
      "  warnings.warn(\"The max_iter was reached which means \"\n",
      "c:\\users\\msinclair\\miniconda3\\lib\\site-packages\\sklearn\\linear_model\\_sag.py:328: ConvergenceWarning: The max_iter was reached which means the coef_ did not converge\n",
      "  warnings.warn(\"The max_iter was reached which means \"\n",
      "c:\\users\\msinclair\\miniconda3\\lib\\site-packages\\sklearn\\linear_model\\_sag.py:328: ConvergenceWarning: The max_iter was reached which means the coef_ did not converge\n",
      "  warnings.warn(\"The max_iter was reached which means \"\n",
      "c:\\users\\msinclair\\miniconda3\\lib\\site-packages\\sklearn\\linear_model\\_sag.py:328: ConvergenceWarning: The max_iter was reached which means the coef_ did not converge\n",
      "  warnings.warn(\"The max_iter was reached which means \"\n",
      "c:\\users\\msinclair\\miniconda3\\lib\\site-packages\\sklearn\\linear_model\\_sag.py:328: ConvergenceWarning: The max_iter was reached which means the coef_ did not converge\n",
      "  warnings.warn(\"The max_iter was reached which means \"\n"
     ]
    }
   ],
   "source": [
    "# execute search\n",
    "result = search.fit(X, y)\n",
    "# summarize result\n",
    "print('Best Score: %s' % result.best_score_)\n",
    "print('Best Hyperparameters: %s' % result.best_params_)"
   ]
  },
  {
   "cell_type": "code",
   "execution_count": 71,
   "id": "937aefdf-f01b-4cf4-8563-fd910ee119d8",
   "metadata": {},
   "outputs": [],
   "source": [
    "model = LogisticRegression(solver='newton-cg', random_state=4).fit(train_X, train_y)"
   ]
  },
  {
   "cell_type": "code",
   "execution_count": 72,
   "id": "525d9377-a01d-4deb-88d4-01a8502446f0",
   "metadata": {},
   "outputs": [
    {
     "data": {
      "text/plain": [
       "array([[120,  25],\n",
       "       [ 20,  58]], dtype=int64)"
      ]
     },
     "execution_count": 72,
     "metadata": {},
     "output_type": "execute_result"
    }
   ],
   "source": [
    "confusion_matrix(test_y, model.predict(test_X))"
   ]
  },
  {
   "cell_type": "code",
   "execution_count": 73,
   "id": "d8f030a9-30eb-4e1c-bac5-dbe44fd902a6",
   "metadata": {},
   "outputs": [],
   "source": [
    "final_X = final_test.loc[:, feature_columns_to_use]"
   ]
  },
  {
   "cell_type": "code",
   "execution_count": 74,
   "id": "22f550e0-470e-45d8-9e4a-aada871fe3ab",
   "metadata": {},
   "outputs": [],
   "source": [
    "predictions = model.predict(final_X)"
   ]
  },
  {
   "cell_type": "code",
   "execution_count": 75,
   "id": "1377578f-ce67-4ee8-8510-91ff91322d33",
   "metadata": {},
   "outputs": [],
   "source": [
    "# Kaggle needs the submission to have a certain format;\n",
    "# see https://www.kaggle.com/c/titanic-gettingStarted/download/gendermodel.csv\n",
    "# for an example of what it's supposed to look like.\n",
    "submission = pd.DataFrame({ 'PassengerId': final_test['PassengerId'],\n",
    "                            'Survived': predictions })\n",
    "submission.to_csv(\"../data/processed/submission.csv\", index=False)"
   ]
  },
  {
   "cell_type": "code",
   "execution_count": 9,
   "id": "2ceb8426-f9bb-4c61-9eac-d1133c7a1296",
   "metadata": {},
   "outputs": [],
   "source": [
    "import kaggle"
   ]
  },
  {
   "cell_type": "code",
   "execution_count": 10,
   "id": "e576b7c4-dbef-4ba1-90bc-b2cf2c8c04a6",
   "metadata": {},
   "outputs": [
    {
     "name": "stdout",
     "output_type": "stream",
     "text": [
      "Successfully submitted to Titanic - Machine Learning from Disaster"
     ]
    },
    {
     "name": "stderr",
     "output_type": "stream",
     "text": [
      "\n",
      "  0%|          | 0.00/3.18k [00:00<?, ?B/s]\n",
      "100%|##########| 3.18k/3.18k [00:00<00:00, 24.4kB/s]\n",
      "100%|##########| 3.18k/3.18k [00:01<00:00, 1.99kB/s]\n"
     ]
    },
    {
     "name": "stdout",
     "output_type": "stream",
     "text": [
      "\n"
     ]
    }
   ],
   "source": [
    "! kaggle competitions submit -c titanic -f ../data/processed/submission.csv -m \"Message\""
   ]
  }
 ],
 "metadata": {
  "kernelspec": {
   "display_name": "Python 3 (ipykernel)",
   "language": "python",
   "name": "python3"
  },
  "language_info": {
   "codemirror_mode": {
    "name": "ipython",
    "version": 3
   },
   "file_extension": ".py",
   "mimetype": "text/x-python",
   "name": "python",
   "nbconvert_exporter": "python",
   "pygments_lexer": "ipython3",
   "version": "3.9.1"
  }
 },
 "nbformat": 4,
 "nbformat_minor": 5
}
